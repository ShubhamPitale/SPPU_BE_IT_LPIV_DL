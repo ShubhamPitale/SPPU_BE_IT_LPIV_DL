{
 "cells": [
  {
   "cell_type": "code",
   "execution_count": 1,
   "metadata": {},
   "outputs": [],
   "source": [
    "import numpy as np\n",
    "import matplotlib.pyplot as plt\n",
    "import tensorflow as tf\n",
    "import random\n",
    "from tensorflow.keras.models import Sequential\n",
    "from tensorflow.keras.layers import Conv2D,MaxPooling2D,Dense,Flatten,Dropout\n"
   ]
  },
  {
   "cell_type": "code",
   "execution_count": 2,
   "metadata": {},
   "outputs": [],
   "source": [
    "# mnist=tf.keras.datasets.mnist\n",
    "# (xtrain,ytrain),(xtest,ytest)=mnist.load_data()\n",
    "import pandas as pd\n",
    "train_data=pd.read_csv('LP-IV-datasets//MNIST(Ass2&3)/mnist_train.csv')\n",
    "xtrain=train_data.drop('label',axis=1).values\n",
    "ytrain=train_data['label']\n",
    "\n",
    "test_data=pd.read_csv('LP-IV-datasets//MNIST(Ass2&3)/mnist_test.csv')\n",
    "xtest=test_data.drop('label',axis=1).values\n",
    "ytest=test_data['label']\n",
    "\n"
   ]
  },
  {
   "cell_type": "code",
   "execution_count": 3,
   "metadata": {},
   "outputs": [],
   "source": [
    "xtrain=xtrain.reshape(xtrain.shape[0],28,28,1)\n",
    "xtest=xtest.reshape(xtest.shape[0],28,28,1)\n",
    "xtrain=xtrain/255.0\n",
    "xtest=xtest/255.0"
   ]
  },
  {
   "cell_type": "code",
   "execution_count": 4,
   "metadata": {},
   "outputs": [
    {
     "name": "stdout",
     "output_type": "stream",
     "text": [
      "Model: \"sequential\"\n",
      "_________________________________________________________________\n",
      " Layer (type)                Output Shape              Param #   \n",
      "=================================================================\n",
      " conv2d (Conv2D)             (None, 26, 26, 20)        200       \n",
      "                                                                 \n",
      " max_pooling2d (MaxPooling2  (None, 13, 13, 20)        0         \n",
      " D)                                                              \n",
      "                                                                 \n",
      " flatten (Flatten)           (None, 3380)              0         \n",
      "                                                                 \n",
      " dense (Dense)               (None, 128)               432768    \n",
      "                                                                 \n",
      " dropout (Dropout)           (None, 128)               0         \n",
      "                                                                 \n",
      " dense_1 (Dense)             (None, 10)                1290      \n",
      "                                                                 \n",
      "=================================================================\n",
      "Total params: 434258 (1.66 MB)\n",
      "Trainable params: 434258 (1.66 MB)\n",
      "Non-trainable params: 0 (0.00 Byte)\n",
      "_________________________________________________________________\n"
     ]
    }
   ],
   "source": [
    "model=Sequential([\n",
    "    Conv2D(20,kernel_size=(3,3),input_shape=(28,28,1)),\n",
    "    MaxPooling2D(pool_size=(2,2)),\n",
    "    Flatten(),\n",
    "    Dense(128,activation='relu'),\n",
    "    Dropout(0.3),\n",
    "    Dense(10,activation=\"softmax\")\n",
    "])\n",
    "model.summary()"
   ]
  },
  {
   "cell_type": "code",
   "execution_count": 5,
   "metadata": {},
   "outputs": [
    {
     "name": "stdout",
     "output_type": "stream",
     "text": [
      "Epoch 1/11\n",
      "1875/1875 [==============================] - 33s 17ms/step - loss: 0.5357 - accuracy: 0.8463 - val_loss: 0.2223 - val_accuracy: 0.9341\n",
      "Epoch 2/11\n",
      "1875/1875 [==============================] - 29s 16ms/step - loss: 0.2450 - accuracy: 0.9273 - val_loss: 0.1616 - val_accuracy: 0.9525\n",
      "Epoch 3/11\n",
      "1875/1875 [==============================] - 29s 16ms/step - loss: 0.1950 - accuracy: 0.9420 - val_loss: 0.1330 - val_accuracy: 0.9604\n",
      "Epoch 4/11\n",
      "1875/1875 [==============================] - 28s 15ms/step - loss: 0.1681 - accuracy: 0.9503 - val_loss: 0.1129 - val_accuracy: 0.9665\n",
      "Epoch 5/11\n",
      "1875/1875 [==============================] - 28s 15ms/step - loss: 0.1483 - accuracy: 0.9566 - val_loss: 0.1059 - val_accuracy: 0.9682\n",
      "Epoch 6/11\n",
      "1875/1875 [==============================] - 29s 15ms/step - loss: 0.1354 - accuracy: 0.9596 - val_loss: 0.0959 - val_accuracy: 0.9707\n",
      "Epoch 7/11\n",
      "1875/1875 [==============================] - 28s 15ms/step - loss: 0.1254 - accuracy: 0.9620 - val_loss: 0.0903 - val_accuracy: 0.9723\n",
      "Epoch 8/11\n",
      "1875/1875 [==============================] - 35s 19ms/step - loss: 0.1152 - accuracy: 0.9653 - val_loss: 0.0835 - val_accuracy: 0.9741\n",
      "Epoch 9/11\n",
      "1875/1875 [==============================] - 31s 17ms/step - loss: 0.1097 - accuracy: 0.9670 - val_loss: 0.0790 - val_accuracy: 0.9748\n",
      "Epoch 10/11\n",
      "1875/1875 [==============================] - 32s 17ms/step - loss: 0.1025 - accuracy: 0.9688 - val_loss: 0.0766 - val_accuracy: 0.9751\n",
      "Epoch 11/11\n",
      "1875/1875 [==============================] - 38s 20ms/step - loss: 0.0973 - accuracy: 0.9705 - val_loss: 0.0706 - val_accuracy: 0.9775\n"
     ]
    }
   ],
   "source": [
    "model.compile(optimizer=\"sgd\",loss=\"sparse_categorical_crossentropy\",metrics=['accuracy'])\n",
    "history=model.fit(xtrain,ytrain,epochs=11,validation_data=(xtest,ytest))"
   ]
  },
  {
   "cell_type": "code",
   "execution_count": 6,
   "metadata": {},
   "outputs": [
    {
     "data": {
      "image/png": "[encoded data removed]",
      "text/plain": [
       "<Figure size 432x288 with 1 Axes>"
      ]
     },
     "metadata": {
      "needs_background": "light"
     },
     "output_type": "display_data"
    }
   ],
   "source": [
    "image=xtest[0]\n",
    "plt.imshow(image)\n",
    "plt.show()"
   ]
  },
  {
   "cell_type": "code",
   "execution_count": 7,
   "metadata": {},
   "outputs": [
    {
     "name": "stdout",
     "output_type": "stream",
     "text": [
      "1/1 [==============================] - 1s 552ms/step\n",
      "Predicted : 7\n"
     ]
    }
   ],
   "source": [
    "image=image.reshape(1,image.shape[0],image.shape[1],image.shape[2])\n",
    "pred=model.predict([image])\n",
    "print(\"Predicted :\",np.argmax(pred))"
   ]
  },
  {
   "cell_type": "code",
   "execution_count": null,
   "metadata": {},
   "outputs": [],
   "source": []
  }
 ],
 "metadata": {
  "kernelspec": {
   "display_name": "Python 3",
   "language": "python",
   "name": "python3"
  },
  "language_info": {
   "codemirror_mode": {
    "name": "ipython",
    "version": 3
   },
   "file_extension": ".py",
   "mimetype": "text/x-python",
   "name": "python",
   "nbconvert_exporter": "python",
   "pygments_lexer": "ipython3",
   "version": "3.8.5"
  }
 },
 "nbformat": 4,
 "nbformat_minor": 4
}
