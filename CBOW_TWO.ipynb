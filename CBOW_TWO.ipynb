{
 "cells": [
  {
   "cell_type": "code",
   "execution_count": 1,
   "metadata": {},
   "outputs": [],
   "source": [
    "import numpy as np\n",
    "import tensorflow as tf\n",
    "from tensorflow.keras.models import Sequential\n",
    "from tensorflow.keras.layers import Dense,GlobalAveragePooling1D,Embedding\n",
    "from tensorflow.keras.preprocessing.text import Tokenizer\n"
   ]
  },
  {
   "cell_type": "code",
   "execution_count": 2,
   "metadata": {},
   "outputs": [],
   "source": [
    "corpus=[]\n",
    "with open(\"LP-IV-datasets/CBOW(Ass5)/CBOW.txt\",'r') as f:\n",
    "    for line in f:\n",
    "        corpus.append(line.strip())"
   ]
  },
  {
   "cell_type": "code",
   "execution_count": 5,
   "metadata": {},
   "outputs": [],
   "source": [
    "tokenizer=Tokenizer()\n",
    "tokenizer.fit_on_texts(corpus)\n",
    "word_index=tokenizer.word_index\n",
    "sequences=tokenizer.texts_to_sequences(corpus)\n",
    "\n",
    "X,y=[],[]\n",
    "for seq in sequences:\n",
    "    for i,target_word in enumerate(seq):\n",
    "        for j in range(max(0,i-2),min(len(seq),i+3)):\n",
    "            if i!=j:\n",
    "                X.append([target_word,seq[j]])\n",
    "                y.append(1)\n",
    "X=np.array(X)\n",
    "y=np.array(y)"
   ]
  },
  {
   "cell_type": "code",
   "execution_count": 7,
   "metadata": {},
   "outputs": [
    {
     "data": {
      "text/plain": [
       "<keras.src.callbacks.History at 0x11df427eb20>"
      ]
     },
     "execution_count": 7,
     "metadata": {},
     "output_type": "execute_result"
    }
   ],
   "source": [
    "model=Sequential([\n",
    "    Embedding(input_dim=len(word_index)+1,output_dim=1,input_length=2),\n",
    "    GlobalAveragePooling1D(),\n",
    "    Dense(1,activation=\"sigmoid\")\n",
    "])\n",
    "model.compile(optimizer=\"adam\",loss='binary_crossentropy',metrics=['accuracy'])\n",
    "model.fit(X, y, epochs=100, verbose=0)"
   ]
  },
  {
   "cell_type": "code",
   "execution_count": 8,
   "metadata": {},
   "outputs": [
    {
     "name": "stdout",
     "output_type": "stream",
     "text": [
      "Word related to interval are ,['the', 'of', 'influenza', 'covid', '19']\n"
     ]
    }
   ],
   "source": [
    "target_word=\"interval\"\n",
    "\n",
    "if target_word not in word_index:\n",
    "    print(\"Bro\")\n",
    "else:\n",
    "    target_embeddings=model.layers[0].get_weights()[0][word_index[target_word]]\n",
    "    \n",
    "    def cosine_sim(a,b):\n",
    "        return np.dot(a,b)/(np.linalg.norm(a)*np.linalg.norm(b))\n",
    "    similarities=[(word,cosine_sim(target_embeddings,model.layers[0].get_weights()[0][index]))\n",
    "                 for word,index in word_index.items() if word != target_word]\n",
    "    related_words=sorted(similarities,key=lambda x:x[1],reverse=True)[:5]\n",
    "    print(f\"Word related to {target_word} are ,{[word for word,_ in related_words]}\")"
   ]
  },
  {
   "cell_type": "code",
   "execution_count": null,
   "metadata": {},
   "outputs": [],
   "source": []
  }
 ],
 "metadata": {
  "kernelspec": {
   "display_name": "Python 3",
   "language": "python",
   "name": "python3"
  },
  "language_info": {
   "codemirror_mode": {
    "name": "ipython",
    "version": 3
   },
   "file_extension": ".py",
   "mimetype": "text/x-python",
   "name": "python",
   "nbconvert_exporter": "python",
   "pygments_lexer": "ipython3",
   "version": "3.8.5"
  }
 },
 "nbformat": 4,
 "nbformat_minor": 4
}
