{
 "cells": [
  {
   "cell_type": "code",
   "execution_count": 1,
   "metadata": {},
   "outputs": [],
   "source": [
    "# import the necessary packages\n",
    "import numpy as np\n",
    "import matplotlib.pyplot as plt\n",
    "import tensorflow as tf\n",
    "import random"
   ]
  },
  {
   "cell_type": "code",
   "execution_count": 2,
   "metadata": {},
   "outputs": [
    {
     "name": "stdout",
     "output_type": "stream",
     "text": [
      "Xtrain shape : (50000, 32, 32, 3)\n",
      "Xtest shape : (10000, 32, 32, 3)\n",
      "Ytrain shape : (50000,)\n",
      "Ytest shape : (10000,)\n"
     ]
    }
   ],
   "source": [
    "# Load the training and testing data\n",
    "# cifar=tf.keras.datasets.cifar10\n",
    "# (xtrain,ytrain),(xtest,ytest)=cifar.load_data()\n",
    "import pandas as pd\n",
    "train_data=pd.read_csv('LP-IV-datasets/CIFR(Ass2&3)/train_data.csv')\n",
    "xtrain=train_data.drop('label',axis=1).values\n",
    "ytrain=train_data['label']\n",
    "\n",
    "test_data=pd.read_csv('LP-IV-datasets/CIFR(Ass2&3)/test_data.csv')\n",
    "xtest=test_data.drop('label',axis=1).values\n",
    "ytest=test_data['label']\n",
    "\n",
    "xtrain=xtrain.reshape(xtrain.shape[0],32,32,3)\n",
    "xtest=xtest.reshape(xtest.shape[0],32,32,3)\n",
    "\n",
    "print(\"Xtrain shape :\",xtrain.shape)\n",
    "print(\"Xtest shape :\",xtest.shape)\n",
    "print(\"Ytrain shape :\",ytrain.shape)\n",
    "print(\"Ytest shape :\",ytest.shape)"
   ]
  },
  {
   "cell_type": "code",
   "execution_count": 3,
   "metadata": {},
   "outputs": [],
   "source": [
    "# # Preprocessing - normalization of values between range 0 to 1\n",
    "xtrain=xtrain/255.0\n",
    "xtest=xtest/255.0"
   ]
  },
  {
   "cell_type": "code",
   "execution_count": 4,
   "metadata": {},
   "outputs": [
    {
     "name": "stdout",
     "output_type": "stream",
     "text": [
      "Model: \"sequential\"\n",
      "_________________________________________________________________\n",
      " Layer (type)                Output Shape              Param #   \n",
      "=================================================================\n",
      " flatten (Flatten)           (None, 3072)              0         \n",
      "                                                                 \n",
      " dense (Dense)               (None, 256)               786688    \n",
      "                                                                 \n",
      " batch_normalization (Batch  (None, 256)               1024      \n",
      " Normalization)                                                  \n",
      "                                                                 \n",
      " dense_1 (Dense)             (None, 128)               32896     \n",
      "                                                                 \n",
      " batch_normalization_1 (Bat  (None, 128)               512       \n",
      " chNormalization)                                                \n",
      "                                                                 \n",
      " dense_2 (Dense)             (None, 64)                8256      \n",
      "                                                                 \n",
      " dense_3 (Dense)             (None, 10)                650       \n",
      "                                                                 \n",
      "=================================================================\n",
      "Total params: 830026 (3.17 MB)\n",
      "Trainable params: 829258 (3.16 MB)\n",
      "Non-trainable params: 768 (3.00 KB)\n",
      "_________________________________________________________________\n"
     ]
    }
   ],
   "source": [
    "# Define the network architecture using Keras\n",
    "model=tf.keras.models.Sequential([\n",
    "    tf.keras.layers.Flatten(input_shape=(32,32,3)),\n",
    "    tf.keras.layers.Dense(256,activation='relu'),\n",
    "    tf.keras.layers.BatchNormalization(),\n",
    "    tf.keras.layers.Dense(128,activation='relu'),\n",
    "    tf.keras.layers.BatchNormalization(),\n",
    "    tf.keras.layers.Dense(64,activation='relu'),\n",
    "    tf.keras.layers.Dense(10,activation='softmax'),\n",
    "])\n",
    "model.summary()"
   ]
  },
  {
   "cell_type": "code",
   "execution_count": 5,
   "metadata": {},
   "outputs": [
    {
     "name": "stdout",
     "output_type": "stream",
     "text": [
      "Epoch 1/11\n",
      "1563/1563 [==============================] - 27s 14ms/step - loss: 1.7697 - accuracy: 0.3699 - val_loss: 1.6777 - val_accuracy: 0.4050\n",
      "Epoch 2/11\n",
      "1563/1563 [==============================] - 17s 11ms/step - loss: 1.5755 - accuracy: 0.4418 - val_loss: 1.6104 - val_accuracy: 0.4252\n",
      "Epoch 3/11\n",
      "1563/1563 [==============================] - 18s 12ms/step - loss: 1.5002 - accuracy: 0.4669 - val_loss: 1.5519 - val_accuracy: 0.4520\n",
      "Epoch 4/11\n",
      "1563/1563 [==============================] - 17s 11ms/step - loss: 1.4596 - accuracy: 0.4805 - val_loss: 1.5604 - val_accuracy: 0.4427\n",
      "Epoch 5/11\n",
      "1563/1563 [==============================] - 17s 11ms/step - loss: 1.4369 - accuracy: 0.4892 - val_loss: 1.5142 - val_accuracy: 0.4652\n",
      "Epoch 6/11\n",
      "1563/1563 [==============================] - 26s 16ms/step - loss: 1.4072 - accuracy: 0.5015 - val_loss: 2.2517 - val_accuracy: 0.3098\n",
      "Epoch 7/11\n",
      "1563/1563 [==============================] - 26s 17ms/step - loss: 1.3800 - accuracy: 0.5115 - val_loss: 1.5498 - val_accuracy: 0.4535\n",
      "Epoch 8/11\n",
      "1563/1563 [==============================] - 26s 17ms/step - loss: 1.3509 - accuracy: 0.5189 - val_loss: 1.4847 - val_accuracy: 0.4720\n",
      "Epoch 9/11\n",
      "1563/1563 [==============================] - 26s 17ms/step - loss: 1.3287 - accuracy: 0.5280 - val_loss: 1.4985 - val_accuracy: 0.4752\n",
      "Epoch 10/11\n",
      "1563/1563 [==============================] - 31s 20ms/step - loss: 1.3161 - accuracy: 0.5336 - val_loss: 1.4658 - val_accuracy: 0.4787\n",
      "Epoch 11/11\n",
      "1563/1563 [==============================] - 27s 18ms/step - loss: 1.3099 - accuracy: 0.5353 - val_loss: 1.5335 - val_accuracy: 0.4669\n"
     ]
    }
   ],
   "source": [
    "# Train the model using SGD/Adam optimizer\n",
    "model.compile(optimizer='sgd',loss=\"sparse_categorical_crossentropy\",metrics=['accuracy'])\n",
    "history=model.fit(xtrain,ytrain,epochs=11,validation_data=(xtest,ytest))"
   ]
  },
  {
   "cell_type": "code",
   "execution_count": 6,
   "metadata": {},
   "outputs": [
    {
     "name": "stdout",
     "output_type": "stream",
     "text": [
      "313/313 [==============================] - 2s 7ms/step - loss: 1.5335 - accuracy: 0.4669\n",
      "Model Loss :153.35209369659424\n",
      "Model Acc :46.68999910354614\n"
     ]
    }
   ],
   "source": [
    "# evaluate the model\n",
    "model_loss,model_acc=model.evaluate(xtest,ytest)\n",
    "print(f\"Model Loss :{model_loss*100}\")\n",
    "print(f\"Model Acc :{model_acc*100}\")"
   ]
  },
  {
   "cell_type": "code",
   "execution_count": 7,
   "metadata": {},
   "outputs": [
    {
     "data": {
      "image/png": "[encoded data removed]",
      "text/plain": [
       "<Figure size 432x288 with 1 Axes>"
      ]
     },
     "metadata": {
      "needs_background": "light"
     },
     "output_type": "display_data"
    }
   ],
   "source": [
    "#plot the training loss\n",
    "plt.plot(history.history['loss'])\n",
    "plt.title(\"Model Loss\")\n",
    "plt.xlabel(\"Epochs\")\n",
    "plt.ylabel(\"Loss\")\n",
    "plt.show()"
   ]
  },
  {
   "cell_type": "code",
   "execution_count": 8,
   "metadata": {},
   "outputs": [
    {
     "data": {
      "image/png": "[encoded data removed]",
      "text/plain": [
       "<Figure size 432x288 with 1 Axes>"
      ]
     },
     "metadata": {
      "needs_background": "light"
     },
     "output_type": "display_data"
    }
   ],
   "source": [
    "# Demo\n",
    "class_names=[\"airplane\",\"automobile\",\"bird\",\"cat\",\"deer\",\"dog\",\"frog\",\"horse\",\"ship\",\"truck\"]\n",
    "n=random.randint(0,9999)\n",
    "plt.imshow(xtest[n])\n",
    "plt.show()"
   ]
  },
  {
   "cell_type": "code",
   "execution_count": 9,
   "metadata": {},
   "outputs": [
    {
     "name": "stdout",
     "output_type": "stream",
     "text": [
      "313/313 [==============================] - 3s 8ms/step\n",
      "Target value : truck\n",
      "Predicted value : automobile\n"
     ]
    }
   ],
   "source": [
    "pred=model.predict(xtest)\n",
    "print(\"Target value :\",class_names[int(ytest[n])])\n",
    "print(\"Predicted value :\",class_names[int(np.argmax(pred[n]))])"
   ]
  },
  {
   "cell_type": "code",
   "execution_count": 10,
   "metadata": {},
   "outputs": [
    {
     "name": "stdout",
     "output_type": "stream",
     "text": [
      "313/313 [==============================] - 2s 8ms/step\n"
     ]
    },
    {
     "ename": "AttributeError",
     "evalue": "'Series' object has no attribute 'flatten'",
     "output_type": "error",
     "traceback": [
      "\u001b[1;31m---------------------------------------------------------------------------\u001b[0m",
      "\u001b[1;31mAttributeError\u001b[0m                            Traceback (most recent call last)",
      "\u001b[1;32m<ipython-input-10-6796aecec9ea>\u001b[0m in \u001b[0;36m<module>\u001b[1;34m\u001b[0m\n\u001b[0;32m      7\u001b[0m \u001b[1;31m# Rest of the code remains the same\u001b[0m\u001b[1;33m\u001b[0m\u001b[1;33m\u001b[0m\u001b[1;33m\u001b[0m\u001b[0m\n\u001b[0;32m      8\u001b[0m \u001b[1;31m# Convert true labels to 1D array if needed\u001b[0m\u001b[1;33m\u001b[0m\u001b[1;33m\u001b[0m\u001b[1;33m\u001b[0m\u001b[0m\n\u001b[1;32m----> 9\u001b[1;33m \u001b[0my_true\u001b[0m \u001b[1;33m=\u001b[0m \u001b[0mytest\u001b[0m\u001b[1;33m.\u001b[0m\u001b[0mflatten\u001b[0m\u001b[1;33m(\u001b[0m\u001b[1;33m)\u001b[0m\u001b[1;33m\u001b[0m\u001b[1;33m\u001b[0m\u001b[0m\n\u001b[0m\u001b[0;32m     10\u001b[0m \u001b[1;33m\u001b[0m\u001b[0m\n\u001b[0;32m     11\u001b[0m \u001b[1;31m# Generate classification report\u001b[0m\u001b[1;33m\u001b[0m\u001b[1;33m\u001b[0m\u001b[1;33m\u001b[0m\u001b[0m\n",
      "\u001b[1;32m~\\anaconda3\\lib\\site-packages\\pandas\\core\\generic.py\u001b[0m in \u001b[0;36m__getattr__\u001b[1;34m(self, name)\u001b[0m\n\u001b[0;32m   5137\u001b[0m             \u001b[1;32mif\u001b[0m \u001b[0mself\u001b[0m\u001b[1;33m.\u001b[0m\u001b[0m_info_axis\u001b[0m\u001b[1;33m.\u001b[0m\u001b[0m_can_hold_identifiers_and_holds_name\u001b[0m\u001b[1;33m(\u001b[0m\u001b[0mname\u001b[0m\u001b[1;33m)\u001b[0m\u001b[1;33m:\u001b[0m\u001b[1;33m\u001b[0m\u001b[1;33m\u001b[0m\u001b[0m\n\u001b[0;32m   5138\u001b[0m                 \u001b[1;32mreturn\u001b[0m \u001b[0mself\u001b[0m\u001b[1;33m[\u001b[0m\u001b[0mname\u001b[0m\u001b[1;33m]\u001b[0m\u001b[1;33m\u001b[0m\u001b[1;33m\u001b[0m\u001b[0m\n\u001b[1;32m-> 5139\u001b[1;33m             \u001b[1;32mreturn\u001b[0m \u001b[0mobject\u001b[0m\u001b[1;33m.\u001b[0m\u001b[0m__getattribute__\u001b[0m\u001b[1;33m(\u001b[0m\u001b[0mself\u001b[0m\u001b[1;33m,\u001b[0m \u001b[0mname\u001b[0m\u001b[1;33m)\u001b[0m\u001b[1;33m\u001b[0m\u001b[1;33m\u001b[0m\u001b[0m\n\u001b[0m\u001b[0;32m   5140\u001b[0m \u001b[1;33m\u001b[0m\u001b[0m\n\u001b[0;32m   5141\u001b[0m     \u001b[1;32mdef\u001b[0m \u001b[0m__setattr__\u001b[0m\u001b[1;33m(\u001b[0m\u001b[0mself\u001b[0m\u001b[1;33m,\u001b[0m \u001b[0mname\u001b[0m\u001b[1;33m:\u001b[0m \u001b[0mstr\u001b[0m\u001b[1;33m,\u001b[0m \u001b[0mvalue\u001b[0m\u001b[1;33m)\u001b[0m \u001b[1;33m->\u001b[0m \u001b[1;32mNone\u001b[0m\u001b[1;33m:\u001b[0m\u001b[1;33m\u001b[0m\u001b[1;33m\u001b[0m\u001b[0m\n",
      "\u001b[1;31mAttributeError\u001b[0m: 'Series' object has no attribute 'flatten'"
     ]
    }
   ],
   "source": [
    "# Use the trained model to predict probabilities for the test set\n",
    "y_pred_probs = model.predict(xtest)\n",
    "\n",
    "# Convert probabilities to predicted class labels\n",
    "y_pred = np.argmax(y_pred_probs, axis=1)\n",
    "\n",
    "# Rest of the code remains the same\n",
    "# Convert true labels to 1D array if needed\n",
    "y_true = ytest.flatten()\n",
    "\n",
    "# Generate classification report\n",
    "report = classification_report(y_true, y_pred, target_names=class_names)\n",
    "\n",
    "# Print the classification report\n",
    "print(report)\n",
    "\n",
    "\n",
    "\n"
   ]
  },
  {
   "cell_type": "code",
   "execution_count": null,
   "metadata": {},
   "outputs": [],
   "source": []
  }
 ],
 "metadata": {
  "kernelspec": {
   "display_name": "Python 3",
   "language": "python",
   "name": "python3"
  },
  "language_info": {
   "codemirror_mode": {
    "name": "ipython",
    "version": 3
   },
   "file_extension": ".py",
   "mimetype": "text/x-python",
   "name": "python",
   "nbconvert_exporter": "python",
   "pygments_lexer": "ipython3",
   "version": "3.8.5"
  }
 },
 "nbformat": 4,
 "nbformat_minor": 4
}
