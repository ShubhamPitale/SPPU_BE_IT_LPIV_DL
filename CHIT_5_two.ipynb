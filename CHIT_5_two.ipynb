{
 "cells": [
  {
   "cell_type": "code",
   "execution_count": 1,
   "metadata": {},
   "outputs": [],
   "source": [
    "import pandas as pd\n",
    "import numpy as np \n",
    "import matplotlib.pyplot as plt\n",
    "import tensorflow as tf\n",
    "from tensorflow.keras.models import Model,Sequential\n",
    "from tensorflow.keras.layers import Dense,Dropout\n",
    "from sklearn.metrics import accuracy_score\n",
    "from sklearn.preprocessing import MinMaxScaler\n",
    "from sklearn.model_selection import train_test_split"
   ]
  },
  {
   "cell_type": "code",
   "execution_count": 3,
   "metadata": {},
   "outputs": [
    {
     "data": {
      "text/html": [
       "<div>\n",
       "<style scoped>\n",
       "    .dataframe tbody tr th:only-of-type {\n",
       "        vertical-align: middle;\n",
       "    }\n",
       "\n",
       "    .dataframe tbody tr th {\n",
       "        vertical-align: top;\n",
       "    }\n",
       "\n",
       "    .dataframe thead th {\n",
       "        text-align: right;\n",
       "    }\n",
       "</style>\n",
       "<table border=\"1\" class=\"dataframe\">\n",
       "  <thead>\n",
       "    <tr style=\"text-align: right;\">\n",
       "      <th></th>\n",
       "      <th>Time</th>\n",
       "      <th>V1</th>\n",
       "      <th>V2</th>\n",
       "      <th>V3</th>\n",
       "      <th>V4</th>\n",
       "      <th>V5</th>\n",
       "      <th>V6</th>\n",
       "      <th>V7</th>\n",
       "      <th>V8</th>\n",
       "      <th>V9</th>\n",
       "      <th>...</th>\n",
       "      <th>V21</th>\n",
       "      <th>V22</th>\n",
       "      <th>V23</th>\n",
       "      <th>V24</th>\n",
       "      <th>V25</th>\n",
       "      <th>V26</th>\n",
       "      <th>V27</th>\n",
       "      <th>V28</th>\n",
       "      <th>Amount</th>\n",
       "      <th>Class</th>\n",
       "    </tr>\n",
       "  </thead>\n",
       "  <tbody>\n",
       "    <tr>\n",
       "      <th>0</th>\n",
       "      <td>0.0</td>\n",
       "      <td>-1.359807</td>\n",
       "      <td>-0.072781</td>\n",
       "      <td>2.536347</td>\n",
       "      <td>1.378155</td>\n",
       "      <td>-0.338321</td>\n",
       "      <td>0.462388</td>\n",
       "      <td>0.239599</td>\n",
       "      <td>0.098698</td>\n",
       "      <td>0.363787</td>\n",
       "      <td>...</td>\n",
       "      <td>-0.018307</td>\n",
       "      <td>0.277838</td>\n",
       "      <td>-0.110474</td>\n",
       "      <td>0.066928</td>\n",
       "      <td>0.128539</td>\n",
       "      <td>-0.189115</td>\n",
       "      <td>0.133558</td>\n",
       "      <td>-0.021053</td>\n",
       "      <td>149.62</td>\n",
       "      <td>0</td>\n",
       "    </tr>\n",
       "    <tr>\n",
       "      <th>1</th>\n",
       "      <td>0.0</td>\n",
       "      <td>1.191857</td>\n",
       "      <td>0.266151</td>\n",
       "      <td>0.166480</td>\n",
       "      <td>0.448154</td>\n",
       "      <td>0.060018</td>\n",
       "      <td>-0.082361</td>\n",
       "      <td>-0.078803</td>\n",
       "      <td>0.085102</td>\n",
       "      <td>-0.255425</td>\n",
       "      <td>...</td>\n",
       "      <td>-0.225775</td>\n",
       "      <td>-0.638672</td>\n",
       "      <td>0.101288</td>\n",
       "      <td>-0.339846</td>\n",
       "      <td>0.167170</td>\n",
       "      <td>0.125895</td>\n",
       "      <td>-0.008983</td>\n",
       "      <td>0.014724</td>\n",
       "      <td>2.69</td>\n",
       "      <td>0</td>\n",
       "    </tr>\n",
       "    <tr>\n",
       "      <th>2</th>\n",
       "      <td>1.0</td>\n",
       "      <td>-1.358354</td>\n",
       "      <td>-1.340163</td>\n",
       "      <td>1.773209</td>\n",
       "      <td>0.379780</td>\n",
       "      <td>-0.503198</td>\n",
       "      <td>1.800499</td>\n",
       "      <td>0.791461</td>\n",
       "      <td>0.247676</td>\n",
       "      <td>-1.514654</td>\n",
       "      <td>...</td>\n",
       "      <td>0.247998</td>\n",
       "      <td>0.771679</td>\n",
       "      <td>0.909412</td>\n",
       "      <td>-0.689281</td>\n",
       "      <td>-0.327642</td>\n",
       "      <td>-0.139097</td>\n",
       "      <td>-0.055353</td>\n",
       "      <td>-0.059752</td>\n",
       "      <td>378.66</td>\n",
       "      <td>0</td>\n",
       "    </tr>\n",
       "    <tr>\n",
       "      <th>3</th>\n",
       "      <td>1.0</td>\n",
       "      <td>-0.966272</td>\n",
       "      <td>-0.185226</td>\n",
       "      <td>1.792993</td>\n",
       "      <td>-0.863291</td>\n",
       "      <td>-0.010309</td>\n",
       "      <td>1.247203</td>\n",
       "      <td>0.237609</td>\n",
       "      <td>0.377436</td>\n",
       "      <td>-1.387024</td>\n",
       "      <td>...</td>\n",
       "      <td>-0.108300</td>\n",
       "      <td>0.005274</td>\n",
       "      <td>-0.190321</td>\n",
       "      <td>-1.175575</td>\n",
       "      <td>0.647376</td>\n",
       "      <td>-0.221929</td>\n",
       "      <td>0.062723</td>\n",
       "      <td>0.061458</td>\n",
       "      <td>123.50</td>\n",
       "      <td>0</td>\n",
       "    </tr>\n",
       "    <tr>\n",
       "      <th>4</th>\n",
       "      <td>2.0</td>\n",
       "      <td>-1.158233</td>\n",
       "      <td>0.877737</td>\n",
       "      <td>1.548718</td>\n",
       "      <td>0.403034</td>\n",
       "      <td>-0.407193</td>\n",
       "      <td>0.095921</td>\n",
       "      <td>0.592941</td>\n",
       "      <td>-0.270533</td>\n",
       "      <td>0.817739</td>\n",
       "      <td>...</td>\n",
       "      <td>-0.009431</td>\n",
       "      <td>0.798278</td>\n",
       "      <td>-0.137458</td>\n",
       "      <td>0.141267</td>\n",
       "      <td>-0.206010</td>\n",
       "      <td>0.502292</td>\n",
       "      <td>0.219422</td>\n",
       "      <td>0.215153</td>\n",
       "      <td>69.99</td>\n",
       "      <td>0</td>\n",
       "    </tr>\n",
       "  </tbody>\n",
       "</table>\n",
       "<p>5 rows × 31 columns</p>\n",
       "</div>"
      ],
      "text/plain": [
       "   Time        V1        V2        V3        V4        V5        V6        V7  \\\n",
       "0   0.0 -1.359807 -0.072781  2.536347  1.378155 -0.338321  0.462388  0.239599   \n",
       "1   0.0  1.191857  0.266151  0.166480  0.448154  0.060018 -0.082361 -0.078803   \n",
       "2   1.0 -1.358354 -1.340163  1.773209  0.379780 -0.503198  1.800499  0.791461   \n",
       "3   1.0 -0.966272 -0.185226  1.792993 -0.863291 -0.010309  1.247203  0.237609   \n",
       "4   2.0 -1.158233  0.877737  1.548718  0.403034 -0.407193  0.095921  0.592941   \n",
       "\n",
       "         V8        V9  ...       V21       V22       V23       V24       V25  \\\n",
       "0  0.098698  0.363787  ... -0.018307  0.277838 -0.110474  0.066928  0.128539   \n",
       "1  0.085102 -0.255425  ... -0.225775 -0.638672  0.101288 -0.339846  0.167170   \n",
       "2  0.247676 -1.514654  ...  0.247998  0.771679  0.909412 -0.689281 -0.327642   \n",
       "3  0.377436 -1.387024  ... -0.108300  0.005274 -0.190321 -1.175575  0.647376   \n",
       "4 -0.270533  0.817739  ... -0.009431  0.798278 -0.137458  0.141267 -0.206010   \n",
       "\n",
       "        V26       V27       V28  Amount  Class  \n",
       "0 -0.189115  0.133558 -0.021053  149.62      0  \n",
       "1  0.125895 -0.008983  0.014724    2.69      0  \n",
       "2 -0.139097 -0.055353 -0.059752  378.66      0  \n",
       "3 -0.221929  0.062723  0.061458  123.50      0  \n",
       "4  0.502292  0.219422  0.215153   69.99      0  \n",
       "\n",
       "[5 rows x 31 columns]"
      ]
     },
     "execution_count": 3,
     "metadata": {},
     "output_type": "execute_result"
    }
   ],
   "source": [
    "data=pd.read_csv('creditcard.csv')\n",
    "data.head()"
   ]
  },
  {
   "cell_type": "code",
   "execution_count": 4,
   "metadata": {},
   "outputs": [],
   "source": [
    "data['Time']=data['Time'].apply(lambda t:(t/3600)%24)"
   ]
  },
  {
   "cell_type": "code",
   "execution_count": 7,
   "metadata": {},
   "outputs": [
    {
     "data": {
      "text/plain": [
       "(1492, 31)"
      ]
     },
     "execution_count": 7,
     "metadata": {},
     "output_type": "execute_result"
    }
   ],
   "source": [
    "good_data=data[data['Class']==0].sample(1000)\n",
    "fraud_data=data[data['Class']==1]\n",
    "reduced=good_data.append(fraud_data).reset_index(drop=True)\n",
    "reduced.shape"
   ]
  },
  {
   "cell_type": "code",
   "execution_count": 9,
   "metadata": {},
   "outputs": [],
   "source": [
    "features=reduced.drop('Class',axis=1)\n",
    "target=reduced['Class']\n",
    "xtrain,xtest,ytrain,ytest=train_test_split(features,target,test_size=0.2)\n",
    "train_index=ytrain[ytrain==1].index\n",
    "train_data=xtrain.loc[train_index]"
   ]
  },
  {
   "cell_type": "code",
   "execution_count": 10,
   "metadata": {},
   "outputs": [],
   "source": [
    "minmaxscaler=MinMaxScaler()\n",
    "x_train_scaled=minmaxscaler.fit_transform(train_data.copy())\n",
    "x_test_scaled=minmaxscaler.transform(xtest.copy())"
   ]
  },
  {
   "cell_type": "code",
   "execution_count": 13,
   "metadata": {},
   "outputs": [],
   "source": [
    "class AutoEncoder(Model):\n",
    "    def __init__(self,output_units,ldim=8):\n",
    "        super().__init__()\n",
    "        self.encoder=Sequential([\n",
    "            Dense(64,activation=\"relu\"),\n",
    "            Dropout(0.1),\n",
    "            Dense(32,activation='relu'),\n",
    "            Dropout(0.1),\n",
    "            Dense(16,activation='relu'),\n",
    "            Dropout(0.1),\n",
    "            Dense(ldim,activation='relu')\n",
    "        ])\n",
    "        \n",
    "        self.decoder=Sequential([\n",
    "            Dense(16,activation='relu'),\n",
    "            Dropout(0.1),\n",
    "            Dense(32,activation=\"relu\"),\n",
    "            Dropout(0.1),\n",
    "            Dense(64,activation='relu'),\n",
    "            Dropout(0.1),\n",
    "            Dense(output_units,activation=\"sigmoid\")\n",
    "            \n",
    "        ])\n",
    "    \n",
    "    def call(self,input):\n",
    "        encoded=self.encoder(input)\n",
    "        decoded=self.decoder(input)\n",
    "        return decoded"
   ]
  },
  {
   "cell_type": "code",
   "execution_count": 14,
   "metadata": {},
   "outputs": [
    {
     "name": "stdout",
     "output_type": "stream",
     "text": [
      "Epoch 1/20\n",
      "WARNING:tensorflow:Gradients do not exist for variables ['dense_8/kernel:0', 'dense_8/bias:0', 'dense_9/kernel:0', 'dense_9/bias:0', 'dense_10/kernel:0', 'dense_10/bias:0', 'dense_11/kernel:0', 'dense_11/bias:0'] when minimizing the loss. If you're using `model.compile()`, did you forget to provide a `loss` argument?\n",
      "WARNING:tensorflow:Gradients do not exist for variables ['dense_8/kernel:0', 'dense_8/bias:0', 'dense_9/kernel:0', 'dense_9/bias:0', 'dense_10/kernel:0', 'dense_10/bias:0', 'dense_11/kernel:0', 'dense_11/bias:0'] when minimizing the loss. If you're using `model.compile()`, did you forget to provide a `loss` argument?\n",
      "WARNING:tensorflow:Gradients do not exist for variables ['dense_8/kernel:0', 'dense_8/bias:0', 'dense_9/kernel:0', 'dense_9/bias:0', 'dense_10/kernel:0', 'dense_10/bias:0', 'dense_11/kernel:0', 'dense_11/bias:0'] when minimizing the loss. If you're using `model.compile()`, did you forget to provide a `loss` argument?\n",
      "WARNING:tensorflow:Gradients do not exist for variables ['dense_8/kernel:0', 'dense_8/bias:0', 'dense_9/kernel:0', 'dense_9/bias:0', 'dense_10/kernel:0', 'dense_10/bias:0', 'dense_11/kernel:0', 'dense_11/bias:0'] when minimizing the loss. If you're using `model.compile()`, did you forget to provide a `loss` argument?\n",
      "1/1 [==============================] - 3s 3s/step - loss: 0.0280 - mse: 0.0612 - val_loss: 0.0347 - val_mse: 0.0792\n",
      "Epoch 2/20\n",
      "1/1 [==============================] - 0s 117ms/step - loss: 0.0276 - mse: 0.0604 - val_loss: 0.0343 - val_mse: 0.0783\n",
      "Epoch 3/20\n",
      "1/1 [==============================] - 0s 117ms/step - loss: 0.0273 - mse: 0.0596 - val_loss: 0.0339 - val_mse: 0.0774\n",
      "Epoch 4/20\n",
      "1/1 [==============================] - 0s 123ms/step - loss: 0.0269 - mse: 0.0588 - val_loss: 0.0335 - val_mse: 0.0765\n",
      "Epoch 5/20\n",
      "1/1 [==============================] - 0s 113ms/step - loss: 0.0265 - mse: 0.0580 - val_loss: 0.0331 - val_mse: 0.0757\n",
      "Epoch 6/20\n",
      "1/1 [==============================] - 0s 115ms/step - loss: 0.0263 - mse: 0.0574 - val_loss: 0.0328 - val_mse: 0.0750\n",
      "Epoch 7/20\n",
      "1/1 [==============================] - 0s 115ms/step - loss: 0.0260 - mse: 0.0569 - val_loss: 0.0325 - val_mse: 0.0742\n",
      "Epoch 8/20\n",
      "1/1 [==============================] - 0s 117ms/step - loss: 0.0257 - mse: 0.0562 - val_loss: 0.0321 - val_mse: 0.0735\n",
      "Epoch 9/20\n",
      "1/1 [==============================] - 0s 113ms/step - loss: 0.0255 - mse: 0.0556 - val_loss: 0.0318 - val_mse: 0.0728\n",
      "Epoch 10/20\n",
      "1/1 [==============================] - 0s 108ms/step - loss: 0.0252 - mse: 0.0550 - val_loss: 0.0315 - val_mse: 0.0722\n",
      "Epoch 11/20\n",
      "1/1 [==============================] - 0s 142ms/step - loss: 0.0250 - mse: 0.0546 - val_loss: 0.0313 - val_mse: 0.0715\n",
      "Epoch 12/20\n",
      "1/1 [==============================] - 0s 159ms/step - loss: 0.0247 - mse: 0.0540 - val_loss: 0.0310 - val_mse: 0.0709\n",
      "Epoch 13/20\n",
      "1/1 [==============================] - 0s 112ms/step - loss: 0.0245 - mse: 0.0535 - val_loss: 0.0307 - val_mse: 0.0703\n",
      "Epoch 14/20\n",
      "1/1 [==============================] - 0s 119ms/step - loss: 0.0244 - mse: 0.0532 - val_loss: 0.0304 - val_mse: 0.0697\n",
      "Epoch 15/20\n",
      "1/1 [==============================] - 0s 139ms/step - loss: 0.0241 - mse: 0.0526 - val_loss: 0.0302 - val_mse: 0.0691\n",
      "Epoch 16/20\n",
      "1/1 [==============================] - 0s 120ms/step - loss: 0.0239 - mse: 0.0521 - val_loss: 0.0299 - val_mse: 0.0685\n",
      "Epoch 17/20\n",
      "1/1 [==============================] - 0s 112ms/step - loss: 0.0237 - mse: 0.0516 - val_loss: 0.0296 - val_mse: 0.0678\n",
      "Epoch 18/20\n",
      "1/1 [==============================] - 0s 122ms/step - loss: 0.0235 - mse: 0.0512 - val_loss: 0.0293 - val_mse: 0.0671\n",
      "Epoch 19/20\n",
      "1/1 [==============================] - 0s 120ms/step - loss: 0.0233 - mse: 0.0508 - val_loss: 0.0290 - val_mse: 0.0664\n",
      "Epoch 20/20\n",
      "1/1 [==============================] - 0s 124ms/step - loss: 0.0230 - mse: 0.0502 - val_loss: 0.0286 - val_mse: 0.0657\n"
     ]
    }
   ],
   "source": [
    "model=AutoEncoder(output_units=x_train_scaled.shape[1])\n",
    "model.compile(optimizer=\"adam\",loss=\"msle\",metrics=['mse'])\n",
    "\n",
    "history = model.fit(\n",
    "    x_train_scaled, x_train_scaled,\n",
    "    epochs=20, batch_size=512,\n",
    "    validation_data=(x_test_scaled, x_test_scaled),\n",
    ")"
   ]
  },
  {
   "cell_type": "code",
   "execution_count": 16,
   "metadata": {},
   "outputs": [],
   "source": [
    "def find_threshold(model,x_train_scaled):\n",
    "    reconstruction=model.predict(x_train_scaled)\n",
    "    reconstruction_errors=tf.keras.losses.msle(reconstruction,x_train_scaled)\n",
    "    threshold=np.mean(reconstruction_errors.numpy())+0.001*np.std(reconstruction_errors.numpy())\n",
    "    return threshold\n",
    "\n",
    "def get_prediction(model,x_test_scaled,threshold):\n",
    "    reconstruction=model.predict(x_test_scaled)\n",
    "    error=tf.keras.losses.msle(reconstruction,x_test_scaled)\n",
    "    anomaly_mask=pd.Series(error)>threshold\n",
    "    pred=anomaly_mask.map(lambda x:0.0 if x==True else 1.0)\n",
    "    return pred\n",
    "    "
   ]
  },
  {
   "cell_type": "code",
   "execution_count": 17,
   "metadata": {},
   "outputs": [
    {
     "name": "stdout",
     "output_type": "stream",
     "text": [
      "13/13 [==============================] - 0s 5ms/step\n"
     ]
    },
    {
     "data": {
      "text/plain": [
       "0.02276748748150065"
      ]
     },
     "execution_count": 17,
     "metadata": {},
     "output_type": "execute_result"
    }
   ],
   "source": [
    "threshold=find_threshold(model,x_train_scaled)\n",
    "threshold"
   ]
  },
  {
   "cell_type": "code",
   "execution_count": 19,
   "metadata": {},
   "outputs": [
    {
     "name": "stdout",
     "output_type": "stream",
     "text": [
      "10/10 [==============================] - 0s 4ms/step\n"
     ]
    },
    {
     "data": {
      "text/plain": [
       "0.882943143812709"
      ]
     },
     "execution_count": 19,
     "metadata": {},
     "output_type": "execute_result"
    }
   ],
   "source": [
    "predictions=get_prediction(model,x_test_scaled,threshold)\n",
    "accuracy_score(predictions,ytest)"
   ]
  },
  {
   "cell_type": "code",
   "execution_count": null,
   "metadata": {},
   "outputs": [],
   "source": []
  }
 ],
 "metadata": {
  "kernelspec": {
   "display_name": "Python 3",
   "language": "python",
   "name": "python3"
  },
  "language_info": {
   "codemirror_mode": {
    "name": "ipython",
    "version": 3
   },
   "file_extension": ".py",
   "mimetype": "text/x-python",
   "name": "python",
   "nbconvert_exporter": "python",
   "pygments_lexer": "ipython3",
   "version": "3.8.5"
  }
 },
 "nbformat": 4,
 "nbformat_minor": 4
}
