{
 "cells": [
  {
   "cell_type": "code",
   "execution_count": 1,
   "metadata": {},
   "outputs": [],
   "source": [
    "import numpy as np\n",
    "import matplotlib.pyplot as plt\n",
    "import tensorflow as tf\n",
    "import random\n",
    "from tensorflow.keras.models import Sequential\n",
    "from tensorflow.keras.layers import Conv2D,MaxPooling2D,Dense,Flatten,Dropout\n"
   ]
  },
  {
   "cell_type": "code",
   "execution_count": 1,
   "metadata": {},
   "outputs": [],
   "source": [
    "# cifar=tf.keras.datasets.cifar10\n",
    "# (xtrain,ytrain),(xtest,ytest)=cifar.load_data()\n",
    "import pandas as pd\n",
    "train_data=pd.read_csv('LP-IV-datasets/CIFR(Ass2&3)/train_data.csv')\n",
    "xtrain=train_data.drop('label',axis=1).values\n",
    "ytrain=train_data['label']\n",
    "\n",
    "test_data=pd.read_csv('LP-IV-datasets/CIFR(Ass2&3)/test_data.csv')\n",
    "xtest=test_data.drop('label',axis=1).values\n",
    "ytest=test_data['label']\n",
    "\n",
    "xtrain=xtrain.reshape(xtrain.shape[0],32,32,3)\n",
    "xtest=xtest.reshape(xtest.shape[0],32,32,3)"
   ]
  },
  {
   "cell_type": "code",
   "execution_count": 3,
   "metadata": {},
   "outputs": [],
   "source": [
    "xtrain=xtrain/255.0\n",
    "xtest=xtest/255.0"
   ]
  },
  {
   "cell_type": "code",
   "execution_count": 5,
   "metadata": {},
   "outputs": [
    {
     "name": "stdout",
     "output_type": "stream",
     "text": [
      "Model: \"sequential\"\n",
      "_________________________________________________________________\n",
      " Layer (type)                Output Shape              Param #   \n",
      "=================================================================\n",
      " conv2d_1 (Conv2D)           (None, 30, 30, 32)        896       \n",
      "                                                                 \n",
      " max_pooling2d (MaxPooling2  (None, 15, 15, 32)        0         \n",
      " D)                                                              \n",
      "                                                                 \n",
      " conv2d_2 (Conv2D)           (None, 13, 13, 32)        9248      \n",
      "                                                                 \n",
      " max_pooling2d_1 (MaxPoolin  (None, 6, 6, 32)          0         \n",
      " g2D)                                                            \n",
      "                                                                 \n",
      " conv2d_3 (Conv2D)           (None, 4, 4, 64)          18496     \n",
      "                                                                 \n",
      " flatten (Flatten)           (None, 1024)              0         \n",
      "                                                                 \n",
      " dense (Dense)               (None, 128)               131200    \n",
      "                                                                 \n",
      " dropout (Dropout)           (None, 128)               0         \n",
      "                                                                 \n",
      " dense_1 (Dense)             (None, 10)                1290      \n",
      "                                                                 \n",
      "=================================================================\n",
      "Total params: 161130 (629.41 KB)\n",
      "Trainable params: 161130 (629.41 KB)\n",
      "Non-trainable params: 0 (0.00 Byte)\n",
      "_________________________________________________________________\n"
     ]
    }
   ],
   "source": [
    "model=Sequential([\n",
    "    Conv2D(32,kernel_size=(3,3),input_shape=(32,32,3)),\n",
    "    MaxPooling2D(pool_size=(2,2)),\n",
    "    Conv2D(32,kernel_size=(3,3)),\n",
    "    MaxPooling2D(pool_size=(2,2)),\n",
    "    Conv2D(64,kernel_size=(3,3)),\n",
    "    Flatten(),\n",
    "    Dense(128,activation=\"relu\"),\n",
    "    Dropout(0.3),\n",
    "    Dense(10,activation=\"softmax\")\n",
    "    \n",
    "])\n",
    "model.summary()"
   ]
  },
  {
   "cell_type": "code",
   "execution_count": 6,
   "metadata": {},
   "outputs": [
    {
     "name": "stdout",
     "output_type": "stream",
     "text": [
      "Epoch 1/11\n",
      "1563/1563 [==============================] - 45s 28ms/step - loss: 1.9280 - accuracy: 0.3012 - val_loss: 1.7710 - val_accuracy: 0.3715\n",
      "Epoch 2/11\n",
      "1563/1563 [==============================] - 42s 27ms/step - loss: 1.6277 - accuracy: 0.4200 - val_loss: 1.5509 - val_accuracy: 0.4543\n",
      "Epoch 3/11\n",
      "1563/1563 [==============================] - 42s 27ms/step - loss: 1.4715 - accuracy: 0.4754 - val_loss: 1.3568 - val_accuracy: 0.5169\n",
      "Epoch 4/11\n",
      "1563/1563 [==============================] - 42s 27ms/step - loss: 1.3812 - accuracy: 0.5122 - val_loss: 1.2895 - val_accuracy: 0.5425\n",
      "Epoch 5/11\n",
      "1563/1563 [==============================] - 42s 27ms/step - loss: 1.3153 - accuracy: 0.5370 - val_loss: 1.2508 - val_accuracy: 0.5570\n",
      "Epoch 6/11\n",
      "1563/1563 [==============================] - 45s 29ms/step - loss: 1.2607 - accuracy: 0.5556 - val_loss: 1.1830 - val_accuracy: 0.5846\n",
      "Epoch 7/11\n",
      "1563/1563 [==============================] - 43s 28ms/step - loss: 1.2087 - accuracy: 0.5780 - val_loss: 1.1638 - val_accuracy: 0.5895\n",
      "Epoch 8/11\n",
      "1563/1563 [==============================] - 51s 33ms/step - loss: 1.1636 - accuracy: 0.5929 - val_loss: 1.1099 - val_accuracy: 0.6084\n",
      "Epoch 9/11\n",
      "1563/1563 [==============================] - 43s 28ms/step - loss: 1.1291 - accuracy: 0.6045 - val_loss: 1.0896 - val_accuracy: 0.6171\n",
      "Epoch 10/11\n",
      "1563/1563 [==============================] - 43s 28ms/step - loss: 1.0956 - accuracy: 0.6190 - val_loss: 1.1073 - val_accuracy: 0.6111\n",
      "Epoch 11/11\n",
      "1563/1563 [==============================] - 47s 30ms/step - loss: 1.0654 - accuracy: 0.6293 - val_loss: 1.0737 - val_accuracy: 0.6216\n"
     ]
    }
   ],
   "source": [
    "model.compile(optimizer=\"sgd\",loss=\"sparse_categorical_crossentropy\",metrics=['accuracy'])\n",
    "history=model.fit(xtrain,ytrain,epochs=11,validation_data=(xtest,ytest))"
   ]
  },
  {
   "cell_type": "code",
   "execution_count": 13,
   "metadata": {},
   "outputs": [
    {
     "data": {
      "image/png": "[encoded data removed]",
      "text/plain": [
       "<Figure size 432x288 with 1 Axes>"
      ]
     },
     "metadata": {
      "needs_background": "light"
     },
     "output_type": "display_data"
    }
   ],
   "source": [
    "class_names=[\"airplane\",\"automobile\",\"bird\",\"cat\",\"deer\",\"dog\",\"frog\",\"horse\",\"ship\",\"truck\"]\n",
    "n=random.randint(0,9999)\n",
    "image=xtest[n]\n",
    "plt.imshow(image)\n",
    "plt.show()"
   ]
  },
  {
   "cell_type": "code",
   "execution_count": 14,
   "metadata": {},
   "outputs": [
    {
     "name": "stdout",
     "output_type": "stream",
     "text": [
      "1/1 [==============================] - 0s 40ms/step\n",
      "predicted class : ship\n"
     ]
    }
   ],
   "source": [
    "image=image.reshape(1,32,32,3)\n",
    "pred=model.predict([image])\n",
    "print(\"predicted class :\",class_names[int(np.argmax(pred))])"
   ]
  },
  {
   "cell_type": "code",
   "execution_count": 17,
   "metadata": {},
   "outputs": [
    {
     "name": "stdout",
     "output_type": "stream",
     "text": [
      "313/313 [==============================] - 4s 11ms/step\n",
      "              precision    recall  f1-score   support\n",
      "\n",
      "    airplane       0.62      0.72      0.67      1000\n",
      "  automobile       0.64      0.83      0.72      1000\n",
      "        bird       0.45      0.60      0.51      1000\n",
      "         cat       0.47      0.41      0.44      1000\n",
      "        deer       0.70      0.39      0.50      1000\n",
      "         dog       0.62      0.42      0.50      1000\n",
      "        frog       0.66      0.75      0.71      1000\n",
      "       horse       0.72      0.68      0.70      1000\n",
      "        ship       0.68      0.80      0.74      1000\n",
      "       truck       0.73      0.60      0.66      1000\n",
      "\n",
      "    accuracy                           0.62     10000\n",
      "   macro avg       0.63      0.62      0.61     10000\n",
      "weighted avg       0.63      0.62      0.61     10000\n",
      "\n"
     ]
    }
   ],
   "source": [
    "from sklearn.metrics import classification_report\n",
    "y_predict=model.predict(xtest)\n",
    "y_pred=np.argmax(y_predict,axis=1)\n",
    "y_true=ytest.flatten()\n",
    "report=classification_report(y_true,y_pred,target_names=class_names)\n",
    "print(report)"
   ]
  },
  {
   "cell_type": "code",
   "execution_count": null,
   "metadata": {},
   "outputs": [],
   "source": []
  }
 ],
 "metadata": {
  "kernelspec": {
   "display_name": "Python 3",
   "language": "python",
   "name": "python3"
  },
  "language_info": {
   "codemirror_mode": {
    "name": "ipython",
    "version": 3
   },
   "file_extension": ".py",
   "mimetype": "text/x-python",
   "name": "python",
   "nbconvert_exporter": "python",
   "pygments_lexer": "ipython3",
   "version": "3.8.5"
  }
 },
 "nbformat": 4,
 "nbformat_minor": 4
}
