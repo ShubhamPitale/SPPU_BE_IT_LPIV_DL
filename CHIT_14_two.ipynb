{
 "cells": [
  {
   "cell_type": "code",
   "execution_count": 2,
   "metadata": {},
   "outputs": [],
   "source": [
    "import pandas as pd\n",
    "import numpy as np\n",
    "import matplotlib.pyplot as plt\n",
    "import tensorflow as tf\n",
    "from tensorflow.keras.models import Model,Sequential\n",
    "from tensorflow.keras.layers import Dense,Dropout\n",
    "from sklearn.metrics import accuracy_score\n",
    "from sklearn.preprocessing import MinMaxScaler\n",
    "from sklearn.model_selection import train_test_split\n"
   ]
  },
  {
   "cell_type": "code",
   "execution_count": 3,
   "metadata": {},
   "outputs": [
    {
     "data": {
      "text/html": [
       "<div>\n",
       "<style scoped>\n",
       "    .dataframe tbody tr th:only-of-type {\n",
       "        vertical-align: middle;\n",
       "    }\n",
       "\n",
       "    .dataframe tbody tr th {\n",
       "        vertical-align: top;\n",
       "    }\n",
       "\n",
       "    .dataframe thead th {\n",
       "        text-align: right;\n",
       "    }\n",
       "</style>\n",
       "<table border=\"1\" class=\"dataframe\">\n",
       "  <thead>\n",
       "    <tr style=\"text-align: right;\">\n",
       "      <th></th>\n",
       "      <th>0</th>\n",
       "      <th>1</th>\n",
       "      <th>2</th>\n",
       "      <th>3</th>\n",
       "      <th>4</th>\n",
       "      <th>5</th>\n",
       "      <th>6</th>\n",
       "      <th>7</th>\n",
       "      <th>8</th>\n",
       "      <th>9</th>\n",
       "      <th>...</th>\n",
       "      <th>131</th>\n",
       "      <th>132</th>\n",
       "      <th>133</th>\n",
       "      <th>134</th>\n",
       "      <th>135</th>\n",
       "      <th>136</th>\n",
       "      <th>137</th>\n",
       "      <th>138</th>\n",
       "      <th>139</th>\n",
       "      <th>140</th>\n",
       "    </tr>\n",
       "  </thead>\n",
       "  <tbody>\n",
       "    <tr>\n",
       "      <th>0</th>\n",
       "      <td>-0.112522</td>\n",
       "      <td>-2.827204</td>\n",
       "      <td>-3.773897</td>\n",
       "      <td>-4.349751</td>\n",
       "      <td>-4.376041</td>\n",
       "      <td>-3.474986</td>\n",
       "      <td>-2.181408</td>\n",
       "      <td>-1.818287</td>\n",
       "      <td>-1.250522</td>\n",
       "      <td>-0.477492</td>\n",
       "      <td>...</td>\n",
       "      <td>0.792168</td>\n",
       "      <td>0.933541</td>\n",
       "      <td>0.796958</td>\n",
       "      <td>0.578621</td>\n",
       "      <td>0.257740</td>\n",
       "      <td>0.228077</td>\n",
       "      <td>0.123431</td>\n",
       "      <td>0.925286</td>\n",
       "      <td>0.193137</td>\n",
       "      <td>1</td>\n",
       "    </tr>\n",
       "    <tr>\n",
       "      <th>1</th>\n",
       "      <td>-1.100878</td>\n",
       "      <td>-3.996840</td>\n",
       "      <td>-4.285843</td>\n",
       "      <td>-4.506579</td>\n",
       "      <td>-4.022377</td>\n",
       "      <td>-3.234368</td>\n",
       "      <td>-1.566126</td>\n",
       "      <td>-0.992258</td>\n",
       "      <td>-0.754680</td>\n",
       "      <td>0.042321</td>\n",
       "      <td>...</td>\n",
       "      <td>0.538356</td>\n",
       "      <td>0.656881</td>\n",
       "      <td>0.787490</td>\n",
       "      <td>0.724046</td>\n",
       "      <td>0.555784</td>\n",
       "      <td>0.476333</td>\n",
       "      <td>0.773820</td>\n",
       "      <td>1.119621</td>\n",
       "      <td>-1.436250</td>\n",
       "      <td>1</td>\n",
       "    </tr>\n",
       "    <tr>\n",
       "      <th>2</th>\n",
       "      <td>-0.567088</td>\n",
       "      <td>-2.593450</td>\n",
       "      <td>-3.874230</td>\n",
       "      <td>-4.584095</td>\n",
       "      <td>-4.187449</td>\n",
       "      <td>-3.151462</td>\n",
       "      <td>-1.742940</td>\n",
       "      <td>-1.490658</td>\n",
       "      <td>-1.183580</td>\n",
       "      <td>-0.394229</td>\n",
       "      <td>...</td>\n",
       "      <td>0.886073</td>\n",
       "      <td>0.531452</td>\n",
       "      <td>0.311377</td>\n",
       "      <td>-0.021919</td>\n",
       "      <td>-0.713683</td>\n",
       "      <td>-0.532197</td>\n",
       "      <td>0.321097</td>\n",
       "      <td>0.904227</td>\n",
       "      <td>-0.421797</td>\n",
       "      <td>1</td>\n",
       "    </tr>\n",
       "    <tr>\n",
       "      <th>3</th>\n",
       "      <td>0.490473</td>\n",
       "      <td>-1.914407</td>\n",
       "      <td>-3.616364</td>\n",
       "      <td>-4.318823</td>\n",
       "      <td>-4.268016</td>\n",
       "      <td>-3.881110</td>\n",
       "      <td>-2.993280</td>\n",
       "      <td>-1.671131</td>\n",
       "      <td>-1.333884</td>\n",
       "      <td>-0.965629</td>\n",
       "      <td>...</td>\n",
       "      <td>0.350816</td>\n",
       "      <td>0.499111</td>\n",
       "      <td>0.600345</td>\n",
       "      <td>0.842069</td>\n",
       "      <td>0.952074</td>\n",
       "      <td>0.990133</td>\n",
       "      <td>1.086798</td>\n",
       "      <td>1.403011</td>\n",
       "      <td>-0.383564</td>\n",
       "      <td>1</td>\n",
       "    </tr>\n",
       "    <tr>\n",
       "      <th>4</th>\n",
       "      <td>0.800232</td>\n",
       "      <td>-0.874252</td>\n",
       "      <td>-2.384761</td>\n",
       "      <td>-3.973292</td>\n",
       "      <td>-4.338224</td>\n",
       "      <td>-3.802422</td>\n",
       "      <td>-2.534510</td>\n",
       "      <td>-1.783423</td>\n",
       "      <td>-1.594450</td>\n",
       "      <td>-0.753199</td>\n",
       "      <td>...</td>\n",
       "      <td>1.148884</td>\n",
       "      <td>0.958434</td>\n",
       "      <td>1.059025</td>\n",
       "      <td>1.371682</td>\n",
       "      <td>1.277392</td>\n",
       "      <td>0.960304</td>\n",
       "      <td>0.971020</td>\n",
       "      <td>1.614392</td>\n",
       "      <td>1.421456</td>\n",
       "      <td>1</td>\n",
       "    </tr>\n",
       "  </tbody>\n",
       "</table>\n",
       "<p>5 rows × 141 columns</p>\n",
       "</div>"
      ],
      "text/plain": [
       "        0         1         2         3         4         5         6    \\\n",
       "0 -0.112522 -2.827204 -3.773897 -4.349751 -4.376041 -3.474986 -2.181408   \n",
       "1 -1.100878 -3.996840 -4.285843 -4.506579 -4.022377 -3.234368 -1.566126   \n",
       "2 -0.567088 -2.593450 -3.874230 -4.584095 -4.187449 -3.151462 -1.742940   \n",
       "3  0.490473 -1.914407 -3.616364 -4.318823 -4.268016 -3.881110 -2.993280   \n",
       "4  0.800232 -0.874252 -2.384761 -3.973292 -4.338224 -3.802422 -2.534510   \n",
       "\n",
       "        7         8         9    ...       131       132       133       134  \\\n",
       "0 -1.818287 -1.250522 -0.477492  ...  0.792168  0.933541  0.796958  0.578621   \n",
       "1 -0.992258 -0.754680  0.042321  ...  0.538356  0.656881  0.787490  0.724046   \n",
       "2 -1.490658 -1.183580 -0.394229  ...  0.886073  0.531452  0.311377 -0.021919   \n",
       "3 -1.671131 -1.333884 -0.965629  ...  0.350816  0.499111  0.600345  0.842069   \n",
       "4 -1.783423 -1.594450 -0.753199  ...  1.148884  0.958434  1.059025  1.371682   \n",
       "\n",
       "        135       136       137       138       139  140  \n",
       "0  0.257740  0.228077  0.123431  0.925286  0.193137    1  \n",
       "1  0.555784  0.476333  0.773820  1.119621 -1.436250    1  \n",
       "2 -0.713683 -0.532197  0.321097  0.904227 -0.421797    1  \n",
       "3  0.952074  0.990133  1.086798  1.403011 -0.383564    1  \n",
       "4  1.277392  0.960304  0.971020  1.614392  1.421456    1  \n",
       "\n",
       "[5 rows x 141 columns]"
      ]
     },
     "execution_count": 3,
     "metadata": {},
     "output_type": "execute_result"
    }
   ],
   "source": [
    "data=pd.read_csv('LP-IV-datasets/ECGdataset(Ass4)/ecg_autoencoder_dataset.csv',header=None)\n",
    "data.head()"
   ]
  },
  {
   "cell_type": "code",
   "execution_count": 5,
   "metadata": {},
   "outputs": [],
   "source": [
    "features=data.drop(140,axis=1)\n",
    "target=data[140]\n",
    "xtrain,xtest,ytrain,ytest=train_test_split(features,target,test_size=0.2)\n",
    "train_index=ytrain[ytrain==1].index\n",
    "train_data=xtrain.loc[train_index]"
   ]
  },
  {
   "cell_type": "code",
   "execution_count": 6,
   "metadata": {},
   "outputs": [],
   "source": [
    "minmaxscaler=MinMaxScaler()\n",
    "x_train_scaled=minmaxscaler.fit_transform(train_data.copy())\n",
    "x_test_scaled=minmaxscaler.transform(xtest.copy())"
   ]
  },
  {
   "cell_type": "code",
   "execution_count": 8,
   "metadata": {},
   "outputs": [],
   "source": [
    "class AutoEncoder(Model):\n",
    "    def __init__(self,output_units,ldim=8):\n",
    "        super().__init__()\n",
    "        self.encoder=Sequential([\n",
    "            Dense(64,activation=\"relu\"),\n",
    "            Dropout(0.1),\n",
    "            Dense(32,activation=\"relu\"),\n",
    "            Dropout(0.1),\n",
    "            Dense(16,activation=\"relu\"),\n",
    "            Dropout(0.1),\n",
    "            Dense(ldim,activation=\"relu\")\n",
    "        ])\n",
    "        \n",
    "        self.decoder=Sequential([\n",
    "            Dense(16,activation=\"relu\"),\n",
    "            Dropout(0.1),\n",
    "            Dense(32,activation=\"relu\"),\n",
    "            Dropout(0.1),\n",
    "            Dense(64,activation=\"relu\"),\n",
    "            Dropout(0.1),\n",
    "            Dense(output_units,activation=\"sigmoid\")\n",
    "        ])\n",
    "    \n",
    "    def call(self,input):\n",
    "        encoded=self.encoder(input)\n",
    "        decoded=self.decoder(encoded)\n",
    "        return decoded\n",
    "        "
   ]
  },
  {
   "cell_type": "code",
   "execution_count": 9,
   "metadata": {},
   "outputs": [
    {
     "name": "stdout",
     "output_type": "stream",
     "text": [
      "Epoch 1/20\n",
      "5/5 [==============================] - 4s 149ms/step - loss: 0.0105 - mse: 0.0237 - val_loss: 0.0130 - val_mse: 0.0306\n",
      "Epoch 2/20\n",
      "5/5 [==============================] - 0s 51ms/step - loss: 0.0099 - mse: 0.0224 - val_loss: 0.0127 - val_mse: 0.0299\n",
      "Epoch 3/20\n",
      "5/5 [==============================] - 0s 55ms/step - loss: 0.0090 - mse: 0.0204 - val_loss: 0.0125 - val_mse: 0.0294\n",
      "Epoch 4/20\n",
      "5/5 [==============================] - 0s 53ms/step - loss: 0.0080 - mse: 0.0182 - val_loss: 0.0123 - val_mse: 0.0289\n",
      "Epoch 5/20\n",
      "5/5 [==============================] - 0s 55ms/step - loss: 0.0071 - mse: 0.0162 - val_loss: 0.0118 - val_mse: 0.0277\n",
      "Epoch 6/20\n",
      "5/5 [==============================] - 0s 46ms/step - loss: 0.0064 - mse: 0.0144 - val_loss: 0.0114 - val_mse: 0.0268\n",
      "Epoch 7/20\n",
      "5/5 [==============================] - 0s 46ms/step - loss: 0.0059 - mse: 0.0132 - val_loss: 0.0110 - val_mse: 0.0259\n",
      "Epoch 8/20\n",
      "5/5 [==============================] - 0s 53ms/step - loss: 0.0055 - mse: 0.0123 - val_loss: 0.0106 - val_mse: 0.0249\n",
      "Epoch 9/20\n",
      "5/5 [==============================] - 0s 62ms/step - loss: 0.0052 - mse: 0.0116 - val_loss: 0.0102 - val_mse: 0.0239\n",
      "Epoch 10/20\n",
      "5/5 [==============================] - 0s 59ms/step - loss: 0.0050 - mse: 0.0112 - val_loss: 0.0099 - val_mse: 0.0235\n",
      "Epoch 11/20\n",
      "5/5 [==============================] - 0s 59ms/step - loss: 0.0049 - mse: 0.0109 - val_loss: 0.0099 - val_mse: 0.0234\n",
      "Epoch 12/20\n",
      "5/5 [==============================] - 0s 50ms/step - loss: 0.0048 - mse: 0.0107 - val_loss: 0.0099 - val_mse: 0.0234\n",
      "Epoch 13/20\n",
      "5/5 [==============================] - 0s 55ms/step - loss: 0.0047 - mse: 0.0105 - val_loss: 0.0099 - val_mse: 0.0233\n",
      "Epoch 14/20\n",
      "5/5 [==============================] - 0s 46ms/step - loss: 0.0047 - mse: 0.0105 - val_loss: 0.0098 - val_mse: 0.0233\n",
      "Epoch 15/20\n",
      "5/5 [==============================] - 0s 54ms/step - loss: 0.0046 - mse: 0.0104 - val_loss: 0.0098 - val_mse: 0.0233\n",
      "Epoch 16/20\n",
      "5/5 [==============================] - 0s 52ms/step - loss: 0.0046 - mse: 0.0103 - val_loss: 0.0098 - val_mse: 0.0233\n",
      "Epoch 17/20\n",
      "5/5 [==============================] - 0s 53ms/step - loss: 0.0046 - mse: 0.0102 - val_loss: 0.0098 - val_mse: 0.0233\n",
      "Epoch 18/20\n",
      "5/5 [==============================] - 0s 51ms/step - loss: 0.0045 - mse: 0.0102 - val_loss: 0.0098 - val_mse: 0.0231\n",
      "Epoch 19/20\n",
      "5/5 [==============================] - 0s 50ms/step - loss: 0.0045 - mse: 0.0101 - val_loss: 0.0098 - val_mse: 0.0231\n",
      "Epoch 20/20\n",
      "5/5 [==============================] - 0s 61ms/step - loss: 0.0044 - mse: 0.0100 - val_loss: 0.0097 - val_mse: 0.0230\n"
     ]
    },
    {
     "data": {
      "text/plain": [
       "<keras.src.callbacks.History at 0x29081c34b50>"
      ]
     },
     "execution_count": 9,
     "metadata": {},
     "output_type": "execute_result"
    }
   ],
   "source": [
    "model=AutoEncoder(output_units=x_train_scaled.shape[1])\n",
    "model.compile(optimizer=\"adam\",loss='msle',metrics=['mse'])\n",
    "model.fit(x_train_scaled,x_train_scaled,epochs=20,batch_size=512,validation_data=(x_test_scaled,x_test_scaled))"
   ]
  },
  {
   "cell_type": "code",
   "execution_count": 10,
   "metadata": {},
   "outputs": [],
   "source": [
    "def find_threshold(model,x_train_scaled):\n",
    "    reconstruction=model.predict(x_train_scaled)\n",
    "    re_err=tf.keras.losses.msle(reconstruction,x_train_scaled)\n",
    "    threshold=np.mean(re_err.numpy())+np.std(re_err.numpy())\n",
    "    return threshold\n",
    "def get_predictions(model,x_test_scaled,threshold):\n",
    "    reconstruction=model.predict(x_test_scaled)\n",
    "    error=tf.keras.losses.msle(reconstruction,x_test_scaled)\n",
    "    anomaly_mask=pd.Series(error)>threshold\n",
    "    pred=anomaly_mask.map(lambda x:0.0 if x==True else 1.0)\n",
    "    return pred"
   ]
  },
  {
   "cell_type": "code",
   "execution_count": 11,
   "metadata": {},
   "outputs": [
    {
     "name": "stdout",
     "output_type": "stream",
     "text": [
      "74/74 [==============================] - 1s 4ms/step\n"
     ]
    },
    {
     "data": {
      "text/plain": [
       "0.009564119877452884"
      ]
     },
     "execution_count": 11,
     "metadata": {},
     "output_type": "execute_result"
    }
   ],
   "source": [
    "threshold=find_threshold(model,x_train_scaled)\n",
    "threshold"
   ]
  },
  {
   "cell_type": "code",
   "execution_count": 12,
   "metadata": {},
   "outputs": [
    {
     "name": "stdout",
     "output_type": "stream",
     "text": [
      "32/32 [==============================] - 0s 4ms/step\n"
     ]
    },
    {
     "data": {
      "text/plain": [
       "0.943"
      ]
     },
     "execution_count": 12,
     "metadata": {},
     "output_type": "execute_result"
    }
   ],
   "source": [
    "pred=get_predictions(model,x_test_scaled,threshold)\n",
    "acc=accuracy_score(pred,ytest)\n",
    "acc"
   ]
  },
  {
   "cell_type": "code",
   "execution_count": null,
   "metadata": {},
   "outputs": [],
   "source": []
  }
 ],
 "metadata": {
  "kernelspec": {
   "display_name": "Python 3",
   "language": "python",
   "name": "python3"
  },
  "language_info": {
   "codemirror_mode": {
    "name": "ipython",
    "version": 3
   },
   "file_extension": ".py",
   "mimetype": "text/x-python",
   "name": "python",
   "nbconvert_exporter": "python",
   "pygments_lexer": "ipython3",
   "version": "3.8.5"
  }
 },
 "nbformat": 4,
 "nbformat_minor": 4
}
