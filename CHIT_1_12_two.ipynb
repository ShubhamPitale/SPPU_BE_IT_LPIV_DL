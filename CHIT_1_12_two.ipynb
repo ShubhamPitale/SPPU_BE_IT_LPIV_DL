{
 "cells": [
  {
   "cell_type": "code",
   "execution_count": 1,
   "metadata": {},
   "outputs": [],
   "source": [
    "#import necessary packages\n",
    "import numpy as np\n",
    "import matplotlib.pyplot as plt\n",
    "import tensorflow as tf\n",
    "import random"
   ]
  },
  {
   "cell_type": "code",
   "execution_count": 2,
   "metadata": {},
   "outputs": [
    {
     "name": "stdout",
     "output_type": "stream",
     "text": [
      "Xtrain shape : (60000, 28, 28)\n",
      "Xtest shape : (10000, 28, 28)\n",
      "ytrain shape : (60000,)\n",
      "ytest shape : (10000,)\n"
     ]
    }
   ],
   "source": [
    "# Load train and test data of mnist\n",
    "# mnist=tf.keras.datasets.mnist\n",
    "# (xtrain,ytrain),(xtest,ytest)=mnist.load_data()\n",
    "import pandas as pd\n",
    "train_data=pd.read_csv('LP-IV-datasets/MNIST(Ass2&3)/mnist_train.csv')\n",
    "xtrain=train_data.drop('label',axis=1).values\n",
    "ytrain=train_data['label'].values\n",
    "\n",
    "test_data=pd.read_csv('LP-IV-datasets/MNIST(Ass2&3)/mnist_test.csv')\n",
    "xtest=test_data.drop('label',axis=1).values\n",
    "ytest=test_data['label'].values\n",
    "\n",
    "xtrain=xtrain.reshape(-1,28,28)\n",
    "xtest=xtest.reshape(-1,28,28)\n",
    "\n",
    "print(\"Xtrain shape :\",xtrain.shape)\n",
    "print(\"Xtest shape :\",xtest.shape)\n",
    "print(\"ytrain shape :\",ytrain.shape)\n",
    "print(\"ytest shape :\",ytest.shape)"
   ]
  },
  {
   "cell_type": "code",
   "execution_count": 3,
   "metadata": {},
   "outputs": [],
   "source": [
    "# preprocessing - Normalizing the data from 255 scale pixel to have value between 0 to 1\n",
    "xtrain=xtrain/255.0\n",
    "xtest=xtest/255.0"
   ]
  },
  {
   "cell_type": "code",
   "execution_count": 4,
   "metadata": {},
   "outputs": [
    {
     "name": "stdout",
     "output_type": "stream",
     "text": [
      "Model: \"sequential\"\n",
      "_________________________________________________________________\n",
      " Layer (type)                Output Shape              Param #   \n",
      "=================================================================\n",
      " flatten (Flatten)           (None, 784)               0         \n",
      "                                                                 \n",
      " dense (Dense)               (None, 128)               100480    \n",
      "                                                                 \n",
      " dense_1 (Dense)             (None, 10)                1290      \n",
      "                                                                 \n",
      "=================================================================\n",
      "Total params: 101770 (397.54 KB)\n",
      "Trainable params: 101770 (397.54 KB)\n",
      "Non-trainable params: 0 (0.00 Byte)\n",
      "_________________________________________________________________\n"
     ]
    }
   ],
   "source": [
    "# Define the network architecture using Keras\n",
    "model=tf.keras.models.Sequential([\n",
    "    tf.keras.layers.Flatten(input_shape=(28,28)),\n",
    "    tf.keras.layers.Dense(128,activation=\"relu\"),\n",
    "    tf.keras.layers.Dense(10,activation=\"softmax\")\n",
    "])\n",
    "model.summary()"
   ]
  },
  {
   "cell_type": "code",
   "execution_count": 5,
   "metadata": {},
   "outputs": [
    {
     "name": "stdout",
     "output_type": "stream",
     "text": [
      "Epoch 1/11\n",
      "1875/1875 [==============================] - 18s 9ms/step - loss: 0.6549 - accuracy: 0.8367 - val_loss: 0.3532 - val_accuracy: 0.9060\n",
      "Epoch 2/11\n",
      "1875/1875 [==============================] - 13s 7ms/step - loss: 0.3362 - accuracy: 0.9064 - val_loss: 0.2897 - val_accuracy: 0.9192\n",
      "Epoch 3/11\n",
      "1875/1875 [==============================] - 13s 7ms/step - loss: 0.2875 - accuracy: 0.9190 - val_loss: 0.2573 - val_accuracy: 0.9272\n",
      "Epoch 4/11\n",
      "1875/1875 [==============================] - 15s 8ms/step - loss: 0.2578 - accuracy: 0.9276 - val_loss: 0.2345 - val_accuracy: 0.9328\n",
      "Epoch 5/11\n",
      "1875/1875 [==============================] - 13s 7ms/step - loss: 0.2356 - accuracy: 0.9337 - val_loss: 0.2184 - val_accuracy: 0.9386\n",
      "Epoch 6/11\n",
      "1875/1875 [==============================] - 13s 7ms/step - loss: 0.2174 - accuracy: 0.9387 - val_loss: 0.2036 - val_accuracy: 0.9404\n",
      "Epoch 7/11\n",
      "1875/1875 [==============================] - 14s 7ms/step - loss: 0.2021 - accuracy: 0.9443 - val_loss: 0.1914 - val_accuracy: 0.9449\n",
      "Epoch 8/11\n",
      "1875/1875 [==============================] - 13s 7ms/step - loss: 0.1888 - accuracy: 0.9473 - val_loss: 0.1797 - val_accuracy: 0.9467\n",
      "Epoch 9/11\n",
      "1875/1875 [==============================] - 16s 8ms/step - loss: 0.1773 - accuracy: 0.9501 - val_loss: 0.1713 - val_accuracy: 0.9503\n",
      "Epoch 10/11\n",
      "1875/1875 [==============================] - 15s 8ms/step - loss: 0.1671 - accuracy: 0.9528 - val_loss: 0.1623 - val_accuracy: 0.9528\n",
      "Epoch 11/11\n",
      "1875/1875 [==============================] - 9s 5ms/step - loss: 0.1583 - accuracy: 0.9557 - val_loss: 0.1549 - val_accuracy: 0.9534\n"
     ]
    }
   ],
   "source": [
    "# Train the model using SGD with 11 epochs\n",
    "model.compile(optimizer=\"sgd\",loss=\"sparse_categorical_crossentropy\",metrics=['accuracy'])\n",
    "history=model.fit(xtrain,ytrain,epochs=11,validation_data=(xtest,ytest))\n"
   ]
  },
  {
   "cell_type": "code",
   "execution_count": 6,
   "metadata": {},
   "outputs": [
    {
     "name": "stdout",
     "output_type": "stream",
     "text": [
      "313/313 [==============================] - 1s 4ms/step - loss: 0.1549 - accuracy: 0.9534\n",
      "Model Loss: 15.485486388206482\n",
      "Model Acc :95.34000158309937\n"
     ]
    }
   ],
   "source": [
    "# Evaluate the model\n",
    "model_loss,model_acc=model.evaluate(xtest,ytest)\n",
    "print(f\"Model Loss: {model_loss*100}\")\n",
    "print(f\"Model Acc :{model_acc*100}\")"
   ]
  },
  {
   "cell_type": "code",
   "execution_count": 7,
   "metadata": {},
   "outputs": [
    {
     "data": {
      "image/png": "[encoded data removed]",
      "text/plain": [
       "<Figure size 432x288 with 1 Axes>"
      ]
     },
     "metadata": {
      "needs_background": "light"
     },
     "output_type": "display_data"
    }
   ],
   "source": [
    "# Plot the training loss and acc\n",
    "# loss\n",
    "plt.plot(history.history['loss'])\n",
    "plt.title(\"Model Loss\")\n",
    "plt.xlabel(\"Epochs\")\n",
    "plt.ylabel(\"Loss\")\n",
    "plt.show()"
   ]
  },
  {
   "cell_type": "code",
   "execution_count": 8,
   "metadata": {},
   "outputs": [
    {
     "data": {
      "image/png": "[encoded data removed]",
      "text/plain": [
       "<Figure size 432x288 with 1 Axes>"
      ]
     },
     "metadata": {
      "needs_background": "light"
     },
     "output_type": "display_data"
    }
   ],
   "source": [
    "# Acc\n",
    "plt.plot(history.history['accuracy'])\n",
    "plt.title(\"Model Accuracy\")\n",
    "plt.xlabel(\"Epochs\")\n",
    "plt.ylabel(\"Accuracy\")\n",
    "plt.show()"
   ]
  },
  {
   "cell_type": "code",
   "execution_count": 9,
   "metadata": {},
   "outputs": [
    {
     "data": {
      "image/png": "[encoded data removed]",
      "text/plain": [
       "<Figure size 432x288 with 1 Axes>"
      ]
     },
     "metadata": {
      "needs_background": "light"
     },
     "output_type": "display_data"
    }
   ],
   "source": [
    "# Demo\n",
    "n=random.randint(0,9999)\n",
    "plt.imshow(xtest[n])\n",
    "plt.show()"
   ]
  },
  {
   "cell_type": "code",
   "execution_count": 10,
   "metadata": {},
   "outputs": [
    {
     "name": "stdout",
     "output_type": "stream",
     "text": [
      "313/313 [==============================] - 1s 3ms/step\n",
      "Target value : 8\n",
      "Predicted Value : 8\n"
     ]
    }
   ],
   "source": [
    "pred=model.predict(xtest)\n",
    "print(\"Target value :\",ytest[n])\n",
    "print(\"Predicted Value :\",np.argmax(pred[n]))"
   ]
  },
  {
   "cell_type": "code",
   "execution_count": null,
   "metadata": {},
   "outputs": [],
   "source": []
  }
 ],
 "metadata": {
  "kernelspec": {
   "display_name": "Python 3",
   "language": "python",
   "name": "python3"
  },
  "language_info": {
   "codemirror_mode": {
    "name": "ipython",
    "version": 3
   },
   "file_extension": ".py",
   "mimetype": "text/x-python",
   "name": "python",
   "nbconvert_exporter": "python",
   "pygments_lexer": "ipython3",
   "version": "3.8.5"
  }
 },
 "nbformat": 4,
 "nbformat_minor": 4
}
